{
 "cells": [
  {
   "cell_type": "code",
   "execution_count": 2,
   "id": "9c563198",
   "metadata": {},
   "outputs": [],
   "source": [
    "from astropy.table import Table\n",
    "import numpy as np\n",
    "\n",
    "w51e_cat = Table.read('tables/dendro_w51e_matched_duplicated_removed.fits')\n",
    "\n",
    "\n",
    "# merge #78 to #104 so #78 will be removed\n",
    "\n",
    "w51e_cat.remove_rows([78])\n",
    "w51e_cat.write('tables/w51e_dendro_matched_final.fits', overwrite=True)\n"
   ]
  }
 ],
 "metadata": {
  "kernelspec": {
   "display_name": "base",
   "language": "python",
   "name": "python3"
  },
  "language_info": {
   "codemirror_mode": {
    "name": "ipython",
    "version": 3
   },
   "file_extension": ".py",
   "mimetype": "text/x-python",
   "name": "python",
   "nbconvert_exporter": "python",
   "pygments_lexer": "ipython3",
   "version": "3.9.12"
  }
 },
 "nbformat": 4,
 "nbformat_minor": 5
}

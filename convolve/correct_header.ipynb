{
 "cells": [
  {
   "cell_type": "code",
   "execution_count": 3,
   "id": "1c7d359c",
   "metadata": {},
   "outputs": [],
   "source": [
    "from astropy.io import fits\n",
    "import Paths.Paths as paths\n",
    "\n",
    "Path = paths.filepaths()\n",
    "\n",
    "with fits.open(Path.w51e_b6_conv, mode='update') as hdul:\n",
    "    hdu = hdul[0]\n",
    "\n",
    "    w51e_b3_hdr = fits.getheader(Path.w51e_b3_tt0)\n",
    "    hdu.header['BMAJ'] = w51e_b3_hdr['BMAJ']\n",
    "    hdu.header['BMIN'] = w51e_b3_hdr['BMIN']\n",
    "    hdu.header['BPA'] = w51e_b3_hdr['BPA']\n",
    "\n",
    "with fits.open(Path.w51n_b6_conv, mode='update') as hdul:\n",
    "    hdu = hdul[0]\n",
    "\n",
    "    w51n_b3_hdr = fits.getheader(Path.w51n_b3_tt0)\n",
    "    hdu.header['BMAJ'] = w51n_b3_hdr['BMAJ']\n",
    "    hdu.header['BMIN'] = w51n_b3_hdr['BMIN']\n",
    "    hdu.header['BPA'] = w51n_b3_hdr['BPA']"
   ]
  }
 ],
 "metadata": {
  "kernelspec": {
   "display_name": "base",
   "language": "python",
   "name": "python3"
  },
  "language_info": {
   "codemirror_mode": {
    "name": "ipython",
    "version": 3
   },
   "file_extension": ".py",
   "mimetype": "text/x-python",
   "name": "python",
   "nbconvert_exporter": "python",
   "pygments_lexer": "ipython3",
   "version": "3.9.12"
  }
 },
 "nbformat": 4,
 "nbformat_minor": 5
}
